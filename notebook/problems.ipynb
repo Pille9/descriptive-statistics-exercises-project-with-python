{
 "cells": [
  {
   "cell_type": "markdown",
   "id": "ac622319",
   "metadata": {},
   "source": [
    "# Descriptive statistics problems"
   ]
  },
  {
   "cell_type": "markdown",
   "id": "5e0ab0d5",
   "metadata": {},
   "source": [
    "### Exercise 1\n",
    "\n",
    "We will use NumPy to obtain information to describe statistically.\n",
    "\n",
    "- Generate an array of 100 elements following a normal distribution.\n",
    "- Generate an array of 100 elements following a chi-square distribution with 3 degrees of freedom.\n",
    "- Calculate the main metrics and statistical measures that best describe the two vectors."
   ]
  },
  {
   "cell_type": "code",
   "execution_count": 1,
   "id": "34720ab6",
   "metadata": {},
   "outputs": [
    {
     "name": "stdout",
     "output_type": "stream",
     "text": [
      "Main metrics and statistical measures of the normal distribution:\n",
      "{'Mean': '-0.0119', 'Median': '-0.0742', 'Mode': '-2.6215', 'Range': ' 4.8525', 'Variance': ' 1.2191', 'Standard deviation': ' 1.1041', 'Skewness': ' 0.0463', 'Kurtosis': ' 2.4633'}\n",
      "Main metrics and statistical measures of the chi-square distribution:\n",
      "{'Mean': ' 2.7688', 'Median': ' 2.2148', 'Mode': ' 0.0384', 'Range': ' 10.3075', 'Variance': ' 5.7156', 'Standard deviation': ' 2.3907', 'Skewness': ' 1.2015', 'Kurtosis': ' 4.0301'}\n"
     ]
    }
   ],
   "source": [
    "# TODO\n",
    "import numpy as np\n",
    "normal = np.random.normal(size = 100)\n",
    "chi = np.random.chisquare(3, 100)\n",
    "\n",
    "def calc_measures(array):\n",
    "    # Mean\n",
    "    mean = sum(array)/len(array)\n",
    "\n",
    "    #Median\n",
    "    sorted_array = sorted(array)\n",
    "    n = len(sorted_array)\n",
    "    if n % 2 == 0:\n",
    "        median = (sorted_array[n//2 - 1] + sorted_array[n//2 + 1]) / 2\n",
    "    else:\n",
    "        median = sorted_array[n/2]\n",
    "    \n",
    "    # Mode\n",
    "    values, counts = np.unique(array,return_counts=True)\n",
    "    mode = values[np.argmax(counts)]\n",
    "\n",
    "    # Range\n",
    "    range = max(array) - min(array)\n",
    "\n",
    "    # Variance and standard deviation\n",
    "    var = sum((x - mean)**2 for x in array) / len(array)\n",
    "    std = var**0.5\n",
    "\n",
    "    # Skewness\n",
    "    skewness = sum((x - mean) ** 3 for x in array) / (n * std ** 3)\n",
    "\n",
    "    # Kurtosis\n",
    "    kurtosis = sum((x - mean) ** 4 for x in array) / (n * std ** 4)\n",
    "\n",
    "    return {\n",
    "        \"Mean\": f\"{mean: .4f}\",\n",
    "        \"Median\": f\"{median: .4f}\",\n",
    "        \"Mode\": f\"{mode: .4f}\",\n",
    "        \"Range\":f\"{range: .4f}\",\n",
    "        \"Variance\": f\"{var: .4f}\",\n",
    "        \"Standard deviation\": f\"{std: .4f}\",\n",
    "        \"Skewness\": f\"{skewness: .4f}\",\n",
    "        \"Kurtosis\": f\"{kurtosis: .4f}\"\n",
    "    }\n",
    "\n",
    "# Apply the function and print results\n",
    "print(\"Main metrics and statistical measures of the normal distribution:\")\n",
    "print(calc_measures(normal))\n",
    "\n",
    "print(\"Main metrics and statistical measures of the chi-square distribution:\")\n",
    "print(calc_measures(chi))\n",
    "\n"
   ]
  },
  {
   "cell_type": "markdown",
   "id": "46c70c3d",
   "metadata": {},
   "source": [
    "### Exercise 2\n",
    "\n",
    "Write a Python program to calculate the standard deviation of the following data:\n",
    "\n",
    "```py\n",
    "data = [4, 2, 5, 8, 6]\n",
    "```"
   ]
  },
  {
   "cell_type": "code",
   "execution_count": 2,
   "id": "d590308e",
   "metadata": {},
   "outputs": [
    {
     "name": "stdout",
     "output_type": "stream",
     "text": [
      "Standard deviation: 2.0\n"
     ]
    }
   ],
   "source": [
    "# TODO\n",
    "data = [4, 2, 5, 8, 6]\n",
    "def calc_std(data):\n",
    "    mean = sum(data)/len(data)\n",
    "    var = sum((x - mean)**2 for x in data) / len(data)\n",
    "    std = var**0.5\n",
    "    return std\n",
    "print(f\"Standard deviation: {calc_std(data)}\")"
   ]
  }
 ],
 "metadata": {
  "kernelspec": {
   "display_name": "Python 3",
   "language": "python",
   "name": "python3"
  },
  "language_info": {
   "codemirror_mode": {
    "name": "ipython",
    "version": 3
   },
   "file_extension": ".py",
   "mimetype": "text/x-python",
   "name": "python",
   "nbconvert_exporter": "python",
   "pygments_lexer": "ipython3",
   "version": "3.11.4"
  }
 },
 "nbformat": 4,
 "nbformat_minor": 5
}
